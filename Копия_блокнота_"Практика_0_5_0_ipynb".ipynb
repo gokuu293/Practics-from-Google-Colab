{
  "nbformat": 4,
  "nbformat_minor": 0,
  "metadata": {
    "colab": {
      "provenance": [],
      "include_colab_link": true
    },
    "kernelspec": {
      "name": "python3",
      "display_name": "Python 3"
    },
    "language_info": {
      "name": "python"
    }
  },
  "cells": [
    {
      "cell_type": "markdown",
      "metadata": {
        "id": "view-in-github",
        "colab_type": "text"
      },
      "source": [
        "<a href=\"https://colab.research.google.com/github/gokuu293/Practics-from-Google-Colab/blob/main/%D0%9A%D0%BE%D0%BF%D0%B8%D1%8F_%D0%B1%D0%BB%D0%BE%D0%BA%D0%BD%D0%BE%D1%82%D0%B0_%22%D0%9F%D1%80%D0%B0%D0%BA%D1%82%D0%B8%D0%BA%D0%B0_0_5_0_ipynb%22.ipynb\" target=\"_parent\"><img src=\"https://colab.research.google.com/assets/colab-badge.svg\" alt=\"Open In Colab\"/></a>"
      ]
    },
    {
      "cell_type": "markdown",
      "source": [
        "ФИО:"
      ],
      "metadata": {
        "id": "Bu5gIJfHNPHw"
      }
    },
    {
      "cell_type": "code",
      "execution_count": null,
      "metadata": {
        "id": "CbHI8c7cM9Eg"
      },
      "outputs": [],
      "source": [
        "Логунов Егор Викторович"
      ]
    },
    {
      "cell_type": "markdown",
      "source": [
        "# **Задание 1**"
      ],
      "metadata": {
        "id": "VrNrBpmocGRd"
      }
    },
    {
      "cell_type": "markdown",
      "source": [
        "\n",
        "\n",
        "Дан словарь, содержащий имена и возраст людей, напишите программу выводящую возраст человека по имени\n",
        "\n",
        "Дано:\n",
        "\n",
        "```\n",
        "{\"Alice\": 25, \"Bob\": 30, \"Charlie\": 35}\n",
        "```\n",
        "\n",
        "Вввод:\n",
        "\n",
        "\n",
        "```\n",
        "Alice\n",
        "```\n",
        "\n",
        "Вывод:\n",
        "\n",
        "\n",
        "```\n",
        "Alice 25\n",
        "```\n"
      ],
      "metadata": {
        "id": "XhV1bnm1bR2h"
      }
    },
    {
      "cell_type": "code",
      "source": [
        "my_dict = {\"Alice\": 25, \"Bob\": 30, \"Charlie\": 35}\n",
        "\n",
        "k = input()\n",
        "\n",
        "print(k , my_dict[k])"
      ],
      "metadata": {
        "id": "9T0nNFCEbpaF",
        "colab": {
          "base_uri": "https://localhost:8080/"
        },
        "outputId": "e0248342-0b7a-473a-8230-a41a577395fd"
      },
      "execution_count": null,
      "outputs": [
        {
          "output_type": "stream",
          "name": "stdout",
          "text": [
            "Alice\n",
            "Alice 25\n"
          ]
        }
      ]
    },
    {
      "cell_type": "markdown",
      "source": [
        "# **Задание 2**\n"
      ],
      "metadata": {
        "id": "lpjJz-_YcJ-t"
      }
    },
    {
      "cell_type": "markdown",
      "source": [
        "\n",
        "\n",
        "Дан список, состоящий из целых чисел, необходимо написать функцию считающую сумму всех положительных четных чисел списка\n",
        "\n",
        "Ввод:\n",
        "\n",
        "```\n",
        "1, 2, 3, 4, 5, 6, 7, 8, 9\n",
        "```\n",
        "\n",
        "Вывод:\n",
        "\n",
        "\n",
        "```\n",
        "20\n",
        "```\n",
        "\n",
        "***Запрещено:***\n",
        "\n",
        "*   Использование готовых функций для суммирования чисел\n"
      ],
      "metadata": {
        "id": "tMEsAB4rUiWW"
      }
    },
    {
      "cell_type": "code",
      "source": [
        "s = [int(i) for i in input().split(',')]\n",
        "\n",
        "sm = 0\n",
        "\n",
        "for i in s:\n",
        "  if i % 2 == 0:\n",
        "    sm += i\n",
        "\n",
        "print(sm)"
      ],
      "metadata": {
        "id": "wDNUFLeqNQS_",
        "colab": {
          "base_uri": "https://localhost:8080/"
        },
        "outputId": "566c9436-b57b-4df9-8cec-75bbcddd7377"
      },
      "execution_count": null,
      "outputs": [
        {
          "output_type": "stream",
          "name": "stdout",
          "text": [
            "1, 2, 3, 4, 5, 6, 7, 8, 9\n",
            "20\n"
          ]
        }
      ]
    },
    {
      "cell_type": "markdown",
      "source": [
        "# **Задание 3**"
      ],
      "metadata": {
        "id": "WT_v-vz1dUZJ"
      }
    },
    {
      "cell_type": "markdown",
      "source": [
        "Дан словарь, содержащий название фрукта и его цвет, выведите список всех желтых фруктов\n",
        "\n",
        "\n",
        "Дано:\n",
        "\n",
        "```\n",
        "fruits_and_colors = {\n",
        "    \"apple\": \"red\",\n",
        "    \"banana\": \"yellow\",\n",
        "    \"mango\": \"yellow\",\n",
        "    \"orange\": \"orange\",\n",
        "    \"lemon\": \"yellow\",\n",
        "    \"grape\": \"purple\"\n",
        "}\n",
        "```\n",
        "\n",
        "Вывод:\n",
        "\n",
        "\n",
        "```\n",
        "Yellow fruits:\n",
        "banana\n",
        "lemon\n",
        "mango\n",
        "```\n",
        "\n"
      ],
      "metadata": {
        "id": "ZI5Xeh2DdXgF"
      }
    },
    {
      "cell_type": "code",
      "source": [
        "fruits_and_colors = {\n",
        "    \"apple\": \"red\",\n",
        "    \"banana\": \"yellow\",\n",
        "    \"mango\": \"yellow\",\n",
        "    \"orange\": \"orange\",\n",
        "    \"lemon\": \"yellow\",\n",
        "    \"grape\": \"purple\"\n",
        "}\n",
        "\n",
        "print('Yellow fruits:')\n",
        "yellow_fruits = [key for key, value in fruits_and_colors.items() if value == \"yellow\" ]\n",
        "\n",
        "for fruit in yellow_fruits:\n",
        "  print(fruit)"
      ],
      "metadata": {
        "id": "aNzFTkhKdkTG",
        "colab": {
          "base_uri": "https://localhost:8080/"
        },
        "outputId": "e653932b-045d-48ce-c5d6-40e8de9e0df1"
      },
      "execution_count": null,
      "outputs": [
        {
          "output_type": "stream",
          "name": "stdout",
          "text": [
            "Yellow fruits:\n",
            "banana\n",
            "mango\n",
            "lemon\n"
          ]
        }
      ]
    },
    {
      "cell_type": "markdown",
      "source": [
        "# **Задание 4**\n"
      ],
      "metadata": {
        "id": "iHtMGt2icM7w"
      }
    },
    {
      "cell_type": "markdown",
      "source": [
        "\n",
        "\n",
        "Дан словарь, необходимо написать функцию меняющую ключ и значение местами\n",
        "\n",
        "Дано:\n",
        "\n",
        "\n",
        "```\n",
        "{\"a\": 1, \"b\": 2, \"c\": 3}\n",
        "```\n",
        "\n",
        "Вывод:\n",
        "\n",
        "```\n",
        "{1: 'a', 2: 'b', 3: 'c'}\n",
        "```\n",
        "\n"
      ],
      "metadata": {
        "id": "rS3THsnBQ_EB"
      }
    },
    {
      "cell_type": "code",
      "source": [
        "my_dict = {\"a\": 1, \"b\": 2, \"c\": 3}\n",
        "\n",
        "def swap_dict(d):\n",
        "  d = dict((v, k) for k, v in d.items())\n",
        "  return d\n",
        "\n",
        "print(swap_dict(my_dict))"
      ],
      "metadata": {
        "id": "MNRusyLDcQ59",
        "colab": {
          "base_uri": "https://localhost:8080/"
        },
        "outputId": "8e8f09ce-7a08-40dc-8319-5b588b61a688"
      },
      "execution_count": null,
      "outputs": [
        {
          "output_type": "stream",
          "name": "stdout",
          "text": [
            "{1: 'a', 2: 'b', 3: 'c'}\n"
          ]
        }
      ]
    },
    {
      "cell_type": "markdown",
      "source": [
        "# **Задание 5**"
      ],
      "metadata": {
        "id": "x6ff5nd0cUxD"
      }
    },
    {
      "cell_type": "markdown",
      "source": [
        "Дан список слов, неограниченной длинны, сформируйте словарь, где в качестве ключа будет слово, а в качестве значения количество символов\n",
        "\n",
        "**Критерии**\n",
        "\n",
        "\n",
        "*   Словарь необходимо отсортировать по убыванию количества элементов в списке.\n",
        "*   Подсчет элементов должен быть реализован в отдельной функции\n",
        "*   Сортировка пары `ключ:значение` должна быть реализована также в виде отдельной функции\n",
        "\n",
        "\n",
        "\n",
        "\n",
        "Дано:\n",
        "```\n",
        "['apple','banana','orange','apple','apple','banana']\n",
        "```\n",
        "\n",
        "\n",
        "Вывод:\n",
        "```\n",
        "{'apple':3, 'banana': 2, 'orange': 1}\n",
        "```\n",
        "\n",
        "***Запрещено:***\n",
        "\n",
        "*   Использование готовых функций для сортировки словаря\n",
        "*   Использование готовых функций для подсчета элементов\n",
        "\n"
      ],
      "metadata": {
        "id": "ypQNHOG4NQz3"
      }
    },
    {
      "cell_type": "code",
      "source": [
        "def count_elements(words):\n",
        "    element_count = {}\n",
        "\n",
        "    for word in words:\n",
        "        if word in element_count:\n",
        "            element_count[word] += 1\n",
        "        else:\n",
        "            element_count[word] = 1\n",
        "\n",
        "    return element_count\n",
        "\n",
        "def sort_dictionary(d):\n",
        "    sorted_items = []\n",
        "\n",
        "    while d:\n",
        "        max_key = max(d, key=lambda key: d[key])\n",
        "        sorted_items.append((max_key, d[max_key]))\n",
        "        del d[max_key]\n",
        "\n",
        "    return dict(sorted_items)\n",
        "\n",
        "words = ['apple', 'banana', 'orange', 'apple', 'apple', 'banana']\n",
        "\n",
        "element_count = count_elements(words)\n",
        "\n",
        "sorted_count = sort_dictionary(element_count)\n",
        "\n",
        "print(sorted_count)"
      ],
      "metadata": {
        "id": "J10PjdVQUbyq",
        "colab": {
          "base_uri": "https://localhost:8080/"
        },
        "outputId": "e84c2699-b124-48fe-a0ad-c70f60340ca6"
      },
      "execution_count": null,
      "outputs": [
        {
          "output_type": "stream",
          "name": "stdout",
          "text": [
            "{'apple': 3, 'banana': 2, 'orange': 1}\n"
          ]
        }
      ]
    },
    {
      "cell_type": "markdown",
      "source": [
        "# **Задание 6**"
      ],
      "metadata": {
        "id": "d7fDUr2WcY_G"
      }
    },
    {
      "cell_type": "markdown",
      "source": [
        "Дан словарь, содержащий информацию о людях, необходимо:\n",
        "\n",
        "\n",
        "\n",
        "*   Вывести всех людей старше 30 лет\n",
        "*   Вывести список городов и количество людей из словаря проживающих в них\n",
        "*   Вывести список профессий и список людей для каждой профессии\n",
        "\n",
        "**Критерии**\n",
        "\n",
        "Каждый из пунктов необходимо реализовать в виде функции\n",
        "\n"
      ],
      "metadata": {
        "id": "m11qdVhSWBi7"
      }
    },
    {
      "cell_type": "code",
      "source": [
        "people_info = {\n",
        "    \"Alice\": {\"age\": 25, \"city\": \"New York\", \"occupation\": \"Engineer\"},\n",
        "    \"Bob\": {\"age\": 30, \"city\": \"Los Angeles\", \"occupation\": \"Designer\"},\n",
        "    \"Charlie\": {\"age\": 35, \"city\": \"Chicago\", \"occupation\": \"Teacher\"},\n",
        "    \"Diana\": {\"age\": 28, \"city\": \"Miami\", \"occupation\": \"Doctor\"},\n",
        "    \"Ethan\": {\"age\": 40, \"city\": \"Seattle\", \"occupation\": \"Chef\"},\n",
        "    \"Frank\": {\"age\": 32, \"city\": \"Atlanta\", \"occupation\": \"Lawyer\"},\n",
        "    \"Gabriella\": {\"age\": 29, \"city\": \"San Francisco\", \"occupation\": \"Software Engineer\"},\n",
        "    \"Harrison\": {\"age\": 38, \"city\": \"Denver\", \"occupation\": \"Architect\"},\n",
        "    \"Isabella\": {\"age\": 26, \"city\": \"Washington D.C.\", \"occupation\": \"Journalist\"},\n",
        "    \"Julian\": {\"age\": 42, \"city\": \"Miami\", \"occupation\": \"Musician\"},\n",
        "    \"Kate\": {\"age\": 31, \"city\": \"Philadelphia\", \"occupation\": \"Nurse\"},\n",
        "    \"Lucas\": {\"age\": 36, \"city\": \"Nashville\", \"occupation\": \"Businessman\"},\n",
        "    \"Mia\": {\"age\": 27, \"city\": \"Atlanta\", \"occupation\": \"Artist\"},\n",
        "    \"Natalie\": {\"age\": 39, \"city\": \"Portland\", \"occupation\": \"Writer\"},\n",
        "    \"Oliver\": {\"age\": 44, \"city\": \"Minneapolis\", \"occupation\": \"Professor\"},\n",
        "    \"Penelope\": {\"age\": 33, \"city\": \"San Diego\", \"occupation\": \"Marketing Manager\"},\n",
        "    \"Quincy\": {\"age\": 41, \"city\": \"Nashville\", \"occupation\": \"Singer\"},\n",
        "    \"Rachel\": {\"age\": 34, \"city\": \"Cleveland\", \"occupation\": \"Teacher\"},\n",
        "    \"Sophia\": {\"age\": 29, \"city\": \"Nashville\", \"occupation\": \"Engineer\"},\n",
        "    \"Tessa\": {\"age\": 37, \"city\": \"Miami\", \"occupation\": \"Lawyer\"}\n",
        "}\n",
        "#Функция 1\n",
        "\n",
        "def age_counter(my_dict):\n",
        "  dict_items = my_dict.items()\n",
        "  ans = []\n",
        "\n",
        "  for i in dict_items:\n",
        "    if i[1]['age'] > 30:\n",
        "      ans.append(i[0])\n",
        "  return ans\n",
        "\n",
        "print(age_counter(people_info))\n",
        "\n",
        "#Функция 2\n",
        "\n",
        "def city_counter(my_dict):\n",
        "  dict_items = my_dict.items()\n",
        "  ans = []\n",
        "\n",
        "  for i in dict_items:\n",
        "    ans.append(i[1]['city'])\n",
        "\n",
        "  city_dict = {item: ans.count(item) for item in ans}\n",
        "  return city_dict\n",
        "\n",
        "print(city_counter(people_info))\n",
        "\n",
        "#Функция 3\n",
        "\n",
        "def job_counter(my_dict):\n",
        "  dict_items = my_dict.items()\n",
        "\n",
        "  dict_job = {i[0] : i[1]['occupation'] for i in dict_items}\n",
        "  resultdict = {}\n",
        "\n",
        "  for key, value in dict_job.items():\n",
        "      try:\n",
        "          resultdict[value] += (', ' + key)\n",
        "      except KeyError:\n",
        "          resultdict[value] = key\n",
        "\n",
        "  return resultdict.items()\n",
        "\n",
        "print(job_counter(people_info))"
      ],
      "metadata": {
        "id": "lSNtB39OWtFl",
        "colab": {
          "base_uri": "https://localhost:8080/"
        },
        "outputId": "0a82cd2b-c787-4909-bb4a-b4f280c0bd5c"
      },
      "execution_count": null,
      "outputs": [
        {
          "output_type": "stream",
          "name": "stdout",
          "text": [
            "['Charlie', 'Ethan', 'Frank', 'Harrison', 'Julian', 'Kate', 'Lucas', 'Natalie', 'Oliver', 'Penelope', 'Quincy', 'Rachel', 'Tessa']\n",
            "{'New York': 1, 'Los Angeles': 1, 'Chicago': 1, 'Miami': 3, 'Seattle': 1, 'Atlanta': 2, 'San Francisco': 1, 'Denver': 1, 'Washington D.C.': 1, 'Philadelphia': 1, 'Nashville': 3, 'Portland': 1, 'Minneapolis': 1, 'San Diego': 1, 'Cleveland': 1}\n",
            "dict_items([('Engineer', 'Alice, Sophia'), ('Designer', 'Bob'), ('Teacher', 'Charlie, Rachel'), ('Doctor', 'Diana'), ('Chef', 'Ethan'), ('Lawyer', 'Frank, Tessa'), ('Software Engineer', 'Gabriella'), ('Architect', 'Harrison'), ('Journalist', 'Isabella'), ('Musician', 'Julian'), ('Nurse', 'Kate'), ('Businessman', 'Lucas'), ('Artist', 'Mia'), ('Writer', 'Natalie'), ('Professor', 'Oliver'), ('Marketing Manager', 'Penelope'), ('Singer', 'Quincy')])\n"
          ]
        }
      ]
    },
    {
      "cell_type": "code",
      "source": [],
      "metadata": {
        "id": "qcLO5eQwXkNK"
      },
      "execution_count": null,
      "outputs": []
    },
    {
      "cell_type": "markdown",
      "source": [
        "# **Задание 7**"
      ],
      "metadata": {
        "id": "27IuB2YScezw"
      }
    },
    {
      "cell_type": "markdown",
      "source": [
        "Задание: Разработка системы отзывов о предметах\n",
        "\n",
        "Описание: Создать программу на Python для хранения и управления отзывами о предметах учебного курса. Программа должна позволять пользователям добавлять, просматривать и удалять отзывы, а также вычислять средний балл по заданному предмету.\n",
        "\n",
        "**Функционал:**\n",
        "\n",
        "*   Добавление отзыва и оценки:\n",
        "   *   Пользователь может ввести название предмета, оценку (от 1 до 5) и текст отзыва.\n",
        "   *   Отзывы должны храниться в структуре данных (например, словаре), где ключом будет название предмета, а значением - список отзывов (каждый отзыв может хранить оценку и комментарий).\n",
        "*   Просмотр отзывов и оценок:\n",
        "   *   Пользователь может запросить отзывы для указанного предмета.\n",
        "   *   Если для указанного предмета есть отзывы, программа должна отобразить список всех отзывов и соответствующих оценок.\n",
        "*   Удаление отзыва:\n",
        "   *   Пользователь может удалить отзыв по индексу. Необходимо заранее уведомить пользователя о том, какие отзывы доступны для удаления.\n",
        "   *   Программа должна обработать ситуацию, когда индекс введен неправильно.\n",
        "*   Вычисление среднего балла по предмету:\n",
        "   *   Пользователь может ввести название предмета, и программа должна вычислить и вывести средний балл по всем отзывам для этого предмета.\n",
        "   *   Если отзывов нет, программа должна сообщить об этом.\n",
        "\n",
        "\n",
        "**Критерии:**\n",
        "\n",
        "*   Код должен быть оформлен в виде функций\n",
        "*   Необходимо обрабатывать неправильный ввод пользователя\n",
        "*   Должны быть комментарии к функциям\n",
        "*   Присутсвует весь дополнительный функционал\n",
        "\n",
        "\n",
        "\n",
        "**Опционально:**\n",
        "\n",
        "Предлагаю вам добавить свои критерии оценки или вопросы, на которые должен ответить студент, чтобы оценить пару\n",
        "\n",
        "\n"
      ],
      "metadata": {
        "id": "Fd95-S9cYhct"
      }
    },
    {
      "cell_type": "code",
      "source": [
        "#Функция, которая добавляет отзыв для указанного предмета\n",
        "\n",
        "def add_review(reviews):\n",
        "    course = input(\"Введите название предмета: \")\n",
        "    try:\n",
        "        rating = int(input(\"Введите оценку (от 1 до 5): \"))\n",
        "        if rating < 1 or rating > 5:\n",
        "            print(\"Ошибка: Оценка должна быть от 1 до 5.\")\n",
        "            return\n",
        "\n",
        "    except ValueError:\n",
        "        print(\"Ошибка: Введите корректное число для оценки.\")\n",
        "        return\n",
        "\n",
        "    comment = input(\"Введите текст отзыва: \")\n",
        "\n",
        "    if course not in reviews:\n",
        "        reviews[course] = []\n",
        "\n",
        "    reviews[course].append({\"rating\": rating, \"comment\": comment})\n",
        "    print(f\"Отзыв для предмета '{course}' успешно добавлен.\")\n",
        "\n",
        "#Функция, которая показывает отзывы для указанного предмета\n",
        "\n",
        "def view_reviews(reviews):\n",
        "    course = input(\"Введите название предмета: \")\n",
        "\n",
        "    if course not in reviews or not reviews[course]:\n",
        "          print(f\"Нет отзывов для предмета '{course}'.\")\n",
        "          return\n",
        "\n",
        "    print(f\"\\nОтзывы для предмета '{course}':\")\n",
        "    for index, review in enumerate(reviews[course]):\n",
        "        print(f\"{index + 1}. Оценка: {review['rating']}, Отзыв: {review['comment']}\")\n",
        "\n",
        "#Функция, которая удаляет отзыв по индексу для указанного предмета\n",
        "\n",
        "def delete_review(reviews):\n",
        "    course = input(\"Введите название предмета: \")\n",
        "\n",
        "    if course not in reviews or not reviews[course]:\n",
        "        print(f\"Нет отзывов для предмета '{course}'.\")\n",
        "        return\n",
        "\n",
        "    print(f\"\\nДоступные отзывы для удаления:\")\n",
        "    for index, review in enumerate(reviews[course]):\n",
        "        print(f\"{index + 1}. Оценка: {review['rating']}, Отзыв: {review['comment']}\")\n",
        "\n",
        "    try:\n",
        "        review_index = int(input(\"Введите номер отзыва для удаления: \")) - 1\n",
        "        if review_index < 0 or review_index >= len(reviews[course]):\n",
        "            print(\"Ошибка: Неверный номер отзыва.\")\n",
        "            return\n",
        "        del reviews[course][review_index]\n",
        "        print(\"Отзыв успешно удален.\")\n",
        "\n",
        "    except ValueError:\n",
        "        print(\"Ошибка: Введите корректное число.\")\n",
        "\n",
        "#Функция, которая вычисляет среднюю оценку для указанного предмета\n",
        "\n",
        "def average_rating(reviews):\n",
        "    course = input(\"Введите название предмета: \")\n",
        "\n",
        "    if course not in reviews or not reviews[course]:\n",
        "        print(f\"Нет отзывов для предмета '{course}'.\")\n",
        "        return\n",
        "\n",
        "    total_rating = sum(review['rating'] for review in reviews[course])\n",
        "    average = total_rating / len(reviews[course])\n",
        "    print(f\"Средняя оценка для предмета '{course}': {average:.2f}\")\n",
        "\n",
        "#Основная функция, управляющая работой программы\n",
        "\n",
        "def main():\n",
        "    reviews = {}\n",
        "\n",
        "    print(\"\\nВыберите действие:\")\n",
        "    print(\"1. Добавить отзыв\")\n",
        "    print(\"2. Просмотреть отзывы\")\n",
        "    print(\"3. Удалить отзыв\")\n",
        "    print(\"4. Вычислить средний балл\")\n",
        "    print(\"5. Выход\")\n",
        "\n",
        "    while True:\n",
        "        choice = input(\"Ваш выбор: \")\n",
        "\n",
        "        if choice == '1':\n",
        "            add_review(reviews)\n",
        "        elif choice == '2':\n",
        "            view_reviews(reviews)\n",
        "        elif choice == '3':\n",
        "            delete_review(reviews)\n",
        "        elif choice == '4':\n",
        "            average_rating(reviews)\n",
        "        elif choice == '5':\n",
        "            print(\"Выход из программы\")\n",
        "            break\n",
        "        else:\n",
        "            print(\"Ошибка: Неверный выбор. Пожалуйста, попробуйте снова.\")\n",
        "\n",
        "main()\n"
      ],
      "metadata": {
        "id": "kzucJrCUa0o7",
        "colab": {
          "base_uri": "https://localhost:8080/"
        },
        "outputId": "2566017b-e53b-47fb-b96d-353c49cb3f89"
      },
      "execution_count": null,
      "outputs": [
        {
          "output_type": "stream",
          "name": "stdout",
          "text": [
            "\n",
            "Выберите действие:\n",
            "1. Добавить отзыв\n",
            "2. Просмотреть отзывы\n",
            "3. Удалить отзыв\n",
            "4. Вычислить средний балл\n",
            "5. Выход\n",
            "Ваш выбор: 1\n",
            "Введите название предмета: Математика\n",
            "Введите оценку (от 1 до 5): 5\n",
            "Введите текст отзыва: Люблю математику!\n",
            "Отзыв для предмета 'Математика' успешно добавлен.\n",
            "Ваш выбор: 2\n",
            "Введите название предмета: Математика\n",
            "\n",
            "Отзывы для предмета 'Математика':\n",
            "1. Оценка: 5, Отзыв: Люблю математику!\n",
            "Ваш выбор: 1\n",
            "Введите название предмета: Математика\n",
            "Введите оценку (от 1 до 5): 1\n",
            "Введите текст отзыва: Не люблю математику!\n",
            "Отзыв для предмета 'Математика' успешно добавлен.\n",
            "Ваш выбор: 2\n",
            "Введите название предмета: Математика\n",
            "\n",
            "Отзывы для предмета 'Математика':\n",
            "1. Оценка: 5, Отзыв: Люблю математику!\n",
            "2. Оценка: 1, Отзыв: Не люблю математику!\n",
            "Ваш выбор: 4\n",
            "Введите название предмета: Математика\n",
            "Средняя оценка для предмета 'Математика': 3.00\n",
            "Ваш выбор: 3\n",
            "Введите название предмета: Математика\n",
            "\n",
            "Доступные отзывы для удаления:\n",
            "1. Оценка: 5, Отзыв: Люблю математику!\n",
            "2. Оценка: 1, Отзыв: Не люблю математику!\n",
            "Введите номер отзыва для удаления: 2\n",
            "Отзыв успешно удален.\n",
            "Ваш выбор: 2\n",
            "Введите название предмета: Математика\n",
            "\n",
            "Отзывы для предмета 'Математика':\n",
            "1. Оценка: 5, Отзыв: Люблю математику!\n",
            "Ваш выбор: 1\n",
            "Введите название предмета: Русский язык\n",
            "Введите оценку (от 1 до 5): 5\n",
            "Введите текст отзыва: Русский язык - самый красивый в мире!\n",
            "Отзыв для предмета 'Русский язык' успешно добавлен.\n",
            "Ваш выбор: 2\n",
            "Введите название предмета: Русский язык\n",
            "\n",
            "Отзывы для предмета 'Русский язык':\n",
            "1. Оценка: 5, Отзыв: Русский язык - самый красивый в мире!\n",
            "Ваш выбор: 5\n",
            "Выход из программы\n"
          ]
        }
      ]
    }
  ]
}