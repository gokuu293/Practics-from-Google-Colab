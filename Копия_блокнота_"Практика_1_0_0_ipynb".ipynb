{
  "nbformat": 4,
  "nbformat_minor": 0,
  "metadata": {
    "colab": {
      "provenance": [],
      "include_colab_link": true
    },
    "kernelspec": {
      "name": "python3",
      "display_name": "Python 3"
    },
    "language_info": {
      "name": "python"
    }
  },
  "cells": [
    {
      "cell_type": "markdown",
      "metadata": {
        "id": "view-in-github",
        "colab_type": "text"
      },
      "source": [
        "<a href=\"https://colab.research.google.com/github/gokuu293/Practics-from-Google-Colab/blob/main/%D0%9A%D0%BE%D0%BF%D0%B8%D1%8F_%D0%B1%D0%BB%D0%BE%D0%BA%D0%BD%D0%BE%D1%82%D0%B0_%22%D0%9F%D1%80%D0%B0%D0%BA%D1%82%D0%B8%D0%BA%D0%B0_1_0_0_ipynb%22.ipynb\" target=\"_parent\"><img src=\"https://colab.research.google.com/assets/colab-badge.svg\" alt=\"Open In Colab\"/></a>"
      ]
    },
    {
      "cell_type": "markdown",
      "source": [
        "ФИО:"
      ],
      "metadata": {
        "id": "fLDS5f_mCnPa"
      }
    },
    {
      "cell_type": "markdown",
      "source": [
        "Логунов Егор Викторович ( зачет 19 11 2024)"
      ],
      "metadata": {
        "id": "FPxs-I-r3cV6"
      }
    },
    {
      "cell_type": "markdown",
      "source": [
        "# Задание (совместное с преподавателем)\n",
        "\n",
        "\n"
      ],
      "metadata": {
        "id": "-CSHUbWzCqeM"
      }
    },
    {
      "cell_type": "markdown",
      "source": [
        "Напишите систему для учёта отпусков с возможностью узнавать, сколько дней отпуска осталось у того или иного сотрудника.\n",
        "Для этого создайте класс Employee со следующими методами:\n",
        "\n",
        "- Метод consume_vacation должен отвечать за списание дней отпуска.\n",
        "\n",
        "Единственный параметр этого метода (кроме self) — количество потраченных отпускных дней (целое число).\n",
        "\n",
        "При вызове метода consume_vacation соответствующее количество дней должно вычитаться из общего числа доступных отпускных дней сотрудника.\n",
        "\n",
        "Чтобы определить число доступных отпускных дней конкретного сотрудника, в классе опишите атрибут экземпляра remaining_vacation_days, который по умолчанию будет равен значению атрибута класса vacation_days, и используйте этот атрибут в работе метода.\n",
        "\n",
        "- Метод get_vacation_details должен возвращать остаток отпускных дней сотрудника в формате: ```Остаток отпускных дней: <число>.```\n",
        "\n",
        "\n",
        "Чтобы проверить работу программы:\n",
        "1. Создайте экземпляр класса Employee.\n",
        "2. Вызовите метод consume_vacation, указав подходящее значение аргумента, например 7.\n",
        "3. Вызовите метод get_vacation_details."
      ],
      "metadata": {
        "id": "a_flBjZOCwYz"
      }
    },
    {
      "cell_type": "code",
      "source": [
        "class Employee:\n",
        "    vacation_days = 28\n",
        "\n",
        "    def __init__(self, first_name, second_name, gender):\n",
        "        self.first_name = first_name\n",
        "        self.second_name = second_name\n",
        "        self.gender = gender\n",
        "        self.remaining_vacation_days = self.vacation_days\n",
        "\n",
        "    def consume_vacation(self, days):\n",
        "        self.remaining_vacation_days -= days\n",
        "\n",
        "    def get_vacation_details(self):\n",
        "        return f'Остаток отпускных дней: {self.remaining_vacation_days}'\n",
        "\n",
        "\n",
        "employee = Employee('Олег', 'Отчисленный', 'Мужчина')\n",
        "employee.consume_vacation(7)\n",
        "print(employee.remaining_vacation_days)\n",
        "print(employee.get_vacation_details())\n",
        "\n",
        "\n",
        "\n",
        "\n",
        "\n"
      ],
      "metadata": {
        "id": "G4bUraN4CwBI",
        "colab": {
          "base_uri": "https://localhost:8080/"
        },
        "outputId": "c694b3a4-db2d-43df-93ad-d68ca0113da9"
      },
      "execution_count": null,
      "outputs": [
        {
          "output_type": "stream",
          "name": "stdout",
          "text": [
            "21\n",
            "Остаток отпускных дней: 21\n"
          ]
        }
      ]
    },
    {
      "cell_type": "markdown",
      "source": [
        "# Задание 1"
      ],
      "metadata": {
        "id": "8XGka5GtEBK1"
      }
    },
    {
      "cell_type": "markdown",
      "source": [
        "Задание:\n",
        "\n",
        "Создайте класс с именем Rectangle который имеет:\n",
        "- Атрибуты ширины и высоты.\n",
        "- Метод расчета площади.\n",
        "- Метод расчета периметра.\n",
        "- Метод отображения размеров прямоугольника.\n",
        "\n",
        "Создайте экземпляр класса Rectangleи продемонстрируйте его функциональность."
      ],
      "metadata": {
        "id": "jQ4qqd8nEZBY"
      }
    },
    {
      "cell_type": "code",
      "source": [
        "class Rectangle:\n",
        "    def __init__(self, width, height):\n",
        "        self.width =  width\n",
        "        self.height = height\n",
        "\n",
        "    def calculate_area(self):\n",
        "        return self.width * self.height\n",
        "\n",
        "    def calculate_perimeter(self):\n",
        "        return 2 * (self.width + self.height)\n",
        "\n",
        "    def display(self):\n",
        "        return f'Width: {self.width}, Height: {self.height}'\n",
        "\n",
        "\n",
        "rectangle = Rectangle(5, 3)\n",
        "\n",
        "print(rectangle.display())\n",
        "print('Area:', rectangle.calculate_area())\n",
        "print('Perimeter:', rectangle.calculate_perimeter())\n",
        "\n",
        "\n"
      ],
      "metadata": {
        "id": "dG6uNPqTEAvt",
        "colab": {
          "base_uri": "https://localhost:8080/"
        },
        "outputId": "06c66d2b-9eb4-4931-a515-2a2a9f220dd4"
      },
      "execution_count": null,
      "outputs": [
        {
          "output_type": "stream",
          "name": "stdout",
          "text": [
            "Width: 5, Height: 3\n",
            "Area: 15\n",
            "Perimeter: 16\n"
          ]
        }
      ]
    },
    {
      "cell_type": "markdown",
      "source": [
        "# Задание 2"
      ],
      "metadata": {
        "id": "0ct1u6lqE73j"
      }
    },
    {
      "cell_type": "markdown",
      "source": [
        "Задание: Создайте мини версию банковской системы:\n",
        "\n",
        "\n",
        "Инструкции:\n",
        "\n",
        "1. Создайте класс BankAccountсо следующими атрибутами:\n",
        "    - account_holder -  владелец счета\n",
        "    - balance - баланс счета\n",
        "\n",
        "2. Реализуйте следующие методы:\n",
        "    - Метод для инициализации владельца счета: имя владельца счета и установите начальный баланс на 0.\n",
        "    - deposit(amount): Добавьте указанную сумму к балансу.\n",
        "    - withdraw(amount): Вычесть указанную сумму из баланса, если средств достаточно; в противном случае вывести предупреждение.\n",
        "    - get_balance(): Возврат текущего баланса.\n",
        "\n",
        "\n",
        "Создайте объект класса и продемонстрируйте его возможности"
      ],
      "metadata": {
        "id": "FOpIpcLxE-WK"
      }
    },
    {
      "cell_type": "code",
      "source": [
        "class BankAccount:\n",
        "    def __init__(self, account_holder):\n",
        "        self.account_holder = account_holder\n",
        "        self.balance = 0\n",
        "\n",
        "    def deposit(self, amount):\n",
        "        if amount > 0:\n",
        "            self.balance += amount\n",
        "            print(f\"На счет {self.account_holder} внесено: {amount}. Новый баланс: {self.balance}.\")\n",
        "        else:\n",
        "            print(\"Сумма для внесения должна быть положительной.\")\n",
        "\n",
        "    def withdraw(self, amount):\n",
        "        if amount > 0:\n",
        "            if amount <= self.balance:\n",
        "                self.balance -= amount\n",
        "                print(f\"Со счета {self.account_holder} снято: {amount}. Остаток на счете: {self.balance}.\")\n",
        "            else:\n",
        "                print(f\"Недостаточно средств для снятия {amount}. Текущий баланс: {self.balance}.\")\n",
        "        else:\n",
        "            print(\"Сумма для снятия должна быть положительной.\")\n",
        "\n",
        "    def get_balance(self):\n",
        "        return self.balance\n",
        "\n",
        "\n",
        "account = BankAccount('Holder')\n",
        "print(f\"Текущий баланс: {account.get_balance()}\")\n",
        "\n",
        "print('---')\n",
        "\n",
        "account.deposit(1000)\n",
        "print(f\"Текущий баланс: {account.get_balance()}\")\n",
        "\n",
        "print('---')\n",
        "\n",
        "account.withdraw(500)\n",
        "print(f\"Текущий баланс: {account.get_balance()}\")\n",
        "\n",
        "print('---')\n",
        "\n",
        "account.withdraw(1000)\n",
        "print(f\"Текущий баланс: {account.get_balance()}\")\n",
        "\n",
        "print('---')\n",
        "\n",
        "account.deposit(-1000)\n",
        "print(f\"Текущий баланс: {account.get_balance()}\")\n",
        "\n",
        "\n",
        "\n",
        "\n",
        "\n"
      ],
      "metadata": {
        "id": "WWXNIUrCE99W",
        "colab": {
          "base_uri": "https://localhost:8080/"
        },
        "outputId": "dfa2760b-6b09-4726-c56d-2675e99e0354"
      },
      "execution_count": null,
      "outputs": [
        {
          "output_type": "stream",
          "name": "stdout",
          "text": [
            "Текущий баланс: 0\n",
            "---\n",
            "На счет Holder внесено: 1000. Новый баланс: 1000.\n",
            "Текущий баланс: 1000\n",
            "---\n",
            "Со счета Holder снято: 500. Остаток на счете: 500.\n",
            "Текущий баланс: 500\n",
            "---\n",
            "Недостаточно средств для снятия 1000. Текущий баланс: 500.\n",
            "Текущий баланс: 500\n",
            "---\n",
            "Сумма для внесения должна быть положительной.\n",
            "Текущий баланс: 500\n"
          ]
        }
      ]
    },
    {
      "cell_type": "markdown",
      "source": [
        "# Задание 3"
      ],
      "metadata": {
        "id": "C5DX5Uf2FfP6"
      }
    },
    {
      "cell_type": "markdown",
      "source": [
        "Возьмите код и задание (Рыцарь и дракон) из предыдущей практики и реализуйте его с применением классов"
      ],
      "metadata": {
        "id": "0cR-MYepFgz6"
      }
    },
    {
      "cell_type": "code",
      "source": [
        "import random\n",
        "\n",
        "\n",
        "class Knight:\n",
        "    def __init__(self, name, armor_type, damage, health):\n",
        "        self.name = name\n",
        "        self.armor_type = armor_type\n",
        "        self.damage = damage\n",
        "        self.health = health\n",
        "\n",
        "        self.apply_armour_effects()\n",
        "\n",
        "    def apply_armour_effects(self):\n",
        "        if self.armor_type == 'Легкие':\n",
        "            self.damage += self.damage // 3\n",
        "            self.health += self.health // 3\n",
        "        elif self.armor_type == 'Средние':\n",
        "            self.damage += self.damage // 2\n",
        "            self.health += self.health // 2\n",
        "        elif self.armor_type == 'Тяжелые':\n",
        "            self.damage *= 2\n",
        "            self.health *= 2\n",
        "\n",
        "    def attack(self):\n",
        "        damage_dealt = random.randint(self.damage - 5, self.damage + 5)\n",
        "        return damage_dealt\n",
        "\n",
        "\n",
        "class Dragon:\n",
        "    def __init__(self, name, health, damage):\n",
        "        self.name = name\n",
        "        self.health = health\n",
        "        self.damage = damage\n",
        "\n",
        "    def attack(self):\n",
        "        damage_dealt = random.randint(self.damage - 5, self.damage + 5)\n",
        "        return damage_dealt\n",
        "\n",
        "\n",
        "def main():\n",
        "    print('Игра \"Рыцарь и дракон\" началась!')\n",
        "\n",
        "    # Создание персонажа\n",
        "    print('\\nСоздание персонажа (рыцаря): ')\n",
        "    player_name = input('\\nВведите имя рыцаря: ')\n",
        "    player_armor = input('Введите тип доспехов и оружия (Легкие, Средние, Тяжелые): ')\n",
        "    player_damage = int(input('Задайте значение для уровня урона рыцаря: '))\n",
        "    player_health = int(input('Задайте значение для уровня здоровья рыцаря: '))\n",
        "\n",
        "    knight = Knight(player_name, player_armor, player_damage, player_health)\n",
        "\n",
        "    print(f'\\nВы создали рыцаря по имени {knight.name}!')\n",
        "\n",
        "    # Создание дракона\n",
        "    print('\\nСоздание дракона: ')\n",
        "    dragon_name = input('\\nВведите имя дракона: ')\n",
        "    dragon_health = int(input('Введите значение для уровня здоровья дракона: '))\n",
        "    dragon_damage = int(input('Введите значение для уровня урона дракона: '))\n",
        "\n",
        "    dragon = Dragon(dragon_name, dragon_health, dragon_damage)\n",
        "\n",
        "    print(f'\\nВы создали дракона по имени {dragon.name}!')\n",
        "\n",
        "    # Мини-сюжет\n",
        "    print(f\"\\nВ далекой стране, {knight.name}, рыцарь, одев {knight.armor_type} доспехи, получил задание от короля...\")\n",
        "    print(\"Король рассказал ужасную историю о том, как Огненный Дракон опустошал земли и сжигал целые деревни.\")\n",
        "    print(\"Король умолял рыцаря отправиться в путешествие и убить это ужасное чудовище.\")\n",
        "    input(\"Нажмите Enter, чтобы отправиться в путь...\")\n",
        "\n",
        "    # Управление персонажем\n",
        "    print(\"\\nПосле долгих дней путешествия вы наконец-то добрались до логова Огненного Дракона...\")\n",
        "    player_choice = input(\"Войдете ли вы в логово и сразитесь с драконом? (Да/Нет): \")\n",
        "\n",
        "    if player_choice.lower() != \"да\":\n",
        "        print(\"Вы решили, что это слишком опасно, и вернулись к королю с пустыми руками...\")\n",
        "        input(\"\\nНажмите Enter, чтобы выйти...\")\n",
        "        return\n",
        "\n",
        "    print(\"Вы храбро вошли в логово дракона, готовые сразиться с ним!\")\n",
        "\n",
        "    # Боевая система\n",
        "    while knight.health > 0 and dragon.health > 0:\n",
        "        print(f\"\\nЗдоровье {knight.name}: {knight.health}\")\n",
        "        print(f\"Здоровье {dragon.name}: {dragon.health}\")\n",
        "\n",
        "        input(f\"\\n{knight.name}, нанесите удар по {dragon.name} (нажмите Enter): \")\n",
        "        damage_dealt = knight.attack()\n",
        "        dragon.health -= damage_dealt\n",
        "        print(f\"\\n{knight.name} наносит {damage_dealt} урона!\")\n",
        "\n",
        "        if dragon.health <= 0:\n",
        "            print(f\"\\n{knight.name} одержал победу над {dragon.name}!\")\n",
        "            break\n",
        "\n",
        "        input(f\"\\n{dragon.name} атакует! Нажмите Enter, чтобы защититься: \")\n",
        "        damage_dealt = dragon.attack()\n",
        "        knight.health -= damage_dealt\n",
        "        print(f\"\\n{dragon.name} наносит {damage_dealt} урона!\")\n",
        "\n",
        "        if knight.health <= 0:\n",
        "            print(f\"\\n{knight.name} был повержен {dragon.name}...\")\n",
        "            break\n",
        "\n",
        "    input(\"\\nНажмите Enter, чтобы выйти...\")\n",
        "\n",
        "\n",
        "main()"
      ],
      "metadata": {
        "id": "Oz9BZbhAFwua",
        "colab": {
          "base_uri": "https://localhost:8080/"
        },
        "outputId": "ac9b814e-ef8b-433d-ae0d-614a9a07139c"
      },
      "execution_count": null,
      "outputs": [
        {
          "name": "stdout",
          "output_type": "stream",
          "text": [
            "Игра \"Рыцарь и дракон\" началась!\n",
            "\n",
            "Создание персонажа (рыцаря): \n",
            "\n",
            "Введите имя рыцаря: Храбрый рыцарь\n",
            "Введите тип доспехов и оружия (Легкие, Средние, Тяжелые): Средние\n",
            "Задайте значение для уровня урона рыцаря: 100\n",
            "Задайте значение для уровня здоровья рыцаря: 500\n",
            "\n",
            "Вы создали рыцаря по имени Храбрый рыцарь!\n",
            "\n",
            "Создание дракона: \n",
            "\n",
            "Введите имя дракона: Огнедышащий дракон\n",
            "Введите значение для уровня здоровья дракона: 750\n",
            "Введите значение для уровня урона дракона: 150\n",
            "\n",
            "Вы создали дракона по имени Огнедышащий дракон!\n",
            "\n",
            "В далекой стране, Храбрый рыцарь, рыцарь, одев Средние доспехи, получил задание от короля...\n",
            "Король рассказал ужасную историю о том, как Огненный Дракон опустошал земли и сжигал целые деревни.\n",
            "Король умолял рыцаря отправиться в путешествие и убить это ужасное чудовище.\n",
            "Нажмите Enter, чтобы отправиться в путь...\n",
            "\n",
            "После долгих дней путешествия вы наконец-то добрались до логова Огненного Дракона...\n",
            "Войдете ли вы в логово и сразитесь с драконом? (Да/Нет): Да\n",
            "Вы храбро вошли в логово дракона, готовые сразиться с ним!\n",
            "\n",
            "Здоровье Храбрый рыцарь: 750\n",
            "Здоровье Огнедышащий дракон: 750\n",
            "\n",
            "Храбрый рыцарь, нанесите удар по Огнедышащий дракон (нажмите Enter): \n",
            "\n",
            "Храбрый рыцарь наносит 155 урона!\n",
            "\n",
            "Огнедышащий дракон атакует! Нажмите Enter, чтобы защититься: \n",
            "\n",
            "Огнедышащий дракон наносит 155 урона!\n",
            "\n",
            "Здоровье Храбрый рыцарь: 595\n",
            "Здоровье Огнедышащий дракон: 595\n",
            "\n",
            "Храбрый рыцарь, нанесите удар по Огнедышащий дракон (нажмите Enter): \n",
            "\n",
            "Храбрый рыцарь наносит 152 урона!\n",
            "\n",
            "Огнедышащий дракон атакует! Нажмите Enter, чтобы защититься: \n",
            "\n",
            "Огнедышащий дракон наносит 153 урона!\n",
            "\n",
            "Здоровье Храбрый рыцарь: 442\n",
            "Здоровье Огнедышащий дракон: 443\n",
            "\n",
            "Храбрый рыцарь, нанесите удар по Огнедышащий дракон (нажмите Enter): \n",
            "\n",
            "Храбрый рыцарь наносит 154 урона!\n",
            "\n",
            "Огнедышащий дракон атакует! Нажмите Enter, чтобы защититься: \n",
            "\n",
            "Огнедышащий дракон наносит 149 урона!\n",
            "\n",
            "Здоровье Храбрый рыцарь: 293\n",
            "Здоровье Огнедышащий дракон: 289\n",
            "\n",
            "Храбрый рыцарь, нанесите удар по Огнедышащий дракон (нажмите Enter): \n",
            "\n",
            "Храбрый рыцарь наносит 147 урона!\n",
            "\n",
            "Огнедышащий дракон атакует! Нажмите Enter, чтобы защититься: \n",
            "\n",
            "Огнедышащий дракон наносит 149 урона!\n",
            "\n",
            "Здоровье Храбрый рыцарь: 144\n",
            "Здоровье Огнедышащий дракон: 142\n",
            "\n",
            "Храбрый рыцарь, нанесите удар по Огнедышащий дракон (нажмите Enter): \n",
            "\n",
            "Храбрый рыцарь наносит 154 урона!\n",
            "\n",
            "Храбрый рыцарь одержал победу над Огнедышащий дракон!\n",
            "\n",
            "Нажмите Enter, чтобы выйти...\n"
          ]
        }
      ]
    },
    {
      "cell_type": "markdown",
      "source": [
        "# Дополнительное задание\n"
      ],
      "metadata": {
        "id": "b_mJHXcQGI9t"
      }
    },
    {
      "cell_type": "markdown",
      "source": [
        "Задача: Система управления библиотекой\n",
        "\n",
        "**Цель**\n",
        "Создайте простую систему управления библиотекой, которая позволит пользователям добавлять книги, брать книги, возвращать книги и просматривать список доступных книг.\n",
        "\n",
        "**Требования**\n",
        "\n",
        "1. **Определение класса**:\n",
        "   – Создайте класс с именем «Book» со следующими атрибутами:\n",
        "     - `title`\n",
        "     - `автор`\n",
        "     - `isbn`\n",
        "     - `is_borrowed` (по умолчанию `False`)\n",
        "\n",
        "2. **Класс библиотеки**:\n",
        "   - Создайте класс с именем Library, который управляет коллекцией книг.\n",
        "   - Класс должен иметь следующие методы:\n",
        "     - `__init__(self)`: инициализирует пустой список книг.\n",
        "     - `add_book(self, book: Book)`: добавляет новую книгу в библиотеку.\n",
        "     - `borrow_book(self, isbn: str)`: помечает книгу как заимствованную. Если книга не найдена или уже взята, выведите соответствующее сообщение.\n",
        "     - `return_book(self, isbn: str)`: помечает книгу как возвращенную. Если книга не найдена или не была взята взаймы, выведите соответствующее сообщение.\n",
        "     - `list_available_books(self)`: печатает список всех доступных книг в библиотеке.\n",
        "     - `find_book(self, isbn: str)`: возвращает объект книги, если он найден, в противном случае возвращает `None`.\n",
        "\n",
        "3. **Взаимодействие с пользователем**:\n",
        "   - Создайте простое текстовое меню, которое позволит пользователям:\n",
        "     - Добавить книгу\n",
        "     - Одолжить книгу\n",
        "     - Вернуть книгу\n",
        "     - Список доступных книг\n",
        "     - Выйти из программы"
      ],
      "metadata": {
        "id": "pnIUdFPcGOVL"
      }
    },
    {
      "cell_type": "code",
      "source": [],
      "metadata": {
        "id": "GKKmdfN8GL6f"
      },
      "execution_count": null,
      "outputs": []
    }
  ]
}