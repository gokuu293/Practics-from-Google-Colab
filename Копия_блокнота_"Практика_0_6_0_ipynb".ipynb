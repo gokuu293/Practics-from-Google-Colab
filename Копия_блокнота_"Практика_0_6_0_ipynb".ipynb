{
  "nbformat": 4,
  "nbformat_minor": 0,
  "metadata": {
    "colab": {
      "provenance": [],
      "include_colab_link": true
    },
    "kernelspec": {
      "name": "python3",
      "display_name": "Python 3"
    },
    "language_info": {
      "name": "python"
    }
  },
  "cells": [
    {
      "cell_type": "markdown",
      "metadata": {
        "id": "view-in-github",
        "colab_type": "text"
      },
      "source": [
        "<a href=\"https://colab.research.google.com/github/gokuu293/Practics-from-Google-Colab/blob/main/%D0%9A%D0%BE%D0%BF%D0%B8%D1%8F_%D0%B1%D0%BB%D0%BE%D0%BA%D0%BD%D0%BE%D1%82%D0%B0_%22%D0%9F%D1%80%D0%B0%D0%BA%D1%82%D0%B8%D0%BA%D0%B0_0_6_0_ipynb%22.ipynb\" target=\"_parent\"><img src=\"https://colab.research.google.com/assets/colab-badge.svg\" alt=\"Open In Colab\"/></a>"
      ]
    },
    {
      "cell_type": "markdown",
      "source": [
        "Логунов Егор Викторович\n",
        "\n",
        "---\n",
        "\n"
      ],
      "metadata": {
        "id": "tKNG_RzWxG6g"
      }
    },
    {
      "cell_type": "markdown",
      "source": [
        "# **Дисклеймер**\n",
        "\n",
        "В данной практике будет введен дополнительный критерий: чистота и читаемость кода, а также соблюдение правил описанных в начале практики"
      ],
      "metadata": {
        "id": "cFcrKfclKWh0"
      }
    },
    {
      "cell_type": "markdown",
      "source": [
        "\n",
        "\n",
        "---\n",
        "\n"
      ],
      "metadata": {
        "id": "0SnE87X1xDlV"
      }
    },
    {
      "cell_type": "markdown",
      "source": [
        "# Задание 1\n",
        "\n",
        "**Задача:**\n",
        "\n",
        "Напишите функцию очищающий список от дубликтов\n",
        "\n",
        "\n",
        "*Запрещено:*\n",
        "\n",
        "*   Использовать set() или готовые функции очищающие список от дубликатов\n",
        "\n",
        "Вввод:\n",
        "\n",
        "```\n",
        "apple banana apple 1 3 4 4 5\n",
        "```\n",
        "\n",
        "\n",
        "Вывод:\n",
        "\n",
        "```\n",
        "apple banana 1 3 4 5\n",
        "```\n",
        "\n"
      ],
      "metadata": {
        "id": "VxawR9NubT_F"
      }
    },
    {
      "cell_type": "code",
      "source": [
        "def clear_duplicate(list):\n",
        "    clear_list = []\n",
        "\n",
        "    for element in list:\n",
        "        if element not in clear_list:\n",
        "            clear_list.append(element)\n",
        "\n",
        "    return clear_list\n",
        "\n",
        "\n",
        "my_list = input().split()\n",
        "my_clear_list = clear_duplicate(my_list)\n",
        "my_clear_str =' '.join(my_clear_list) #вывод без квадратных скобок\n",
        "\n",
        "print(my_clear_str)\n",
        "\n"
      ],
      "metadata": {
        "id": "ml5gnbPXbeju",
        "colab": {
          "base_uri": "https://localhost:8080/"
        },
        "outputId": "461973c6-b5cf-4637-db4f-5aa33164e937"
      },
      "execution_count": null,
      "outputs": [
        {
          "output_type": "stream",
          "name": "stdout",
          "text": [
            "apple banana apple 1 3 4 4 5\n",
            "apple banana 1 3 4 5\n"
          ]
        }
      ]
    },
    {
      "cell_type": "markdown",
      "source": [
        "# Задание 2\n",
        "\n",
        "**Задача:**\n",
        "\n",
        "Написать функцию для нахождения простых чисел в диапазоне\n",
        "\n",
        "Ввод:\n",
        "\n",
        "```\n",
        "10, 50\n",
        "```\n",
        "\n",
        "Вывод:\n",
        "\n",
        "```\n",
        "11, 13, 17, 19, 23, 29, 31, 37, 41, 43, 47\n",
        "```"
      ],
      "metadata": {
        "id": "y05x0eD0cVCC"
      }
    },
    {
      "cell_type": "code",
      "source": [
        "def prime_numbers(start_of_range, end_of_range):\n",
        "    prime_numbers = []\n",
        "\n",
        "    for number in range(start_of_range, end_of_range + 1):\n",
        "        check = True\n",
        "\n",
        "        for div in range(2, int(number**0.5) + 1):\n",
        "            if number % div == 0:\n",
        "                check = False\n",
        "\n",
        "        if check == True:\n",
        "            prime_numbers.append(number)\n",
        "\n",
        "    return prime_numbers\n",
        "\n",
        "\n",
        "my_range = input().split(', ')\n",
        "\n",
        "my_start_of_range = int(my_range[0])\n",
        "my_end_of_range = int(my_range[1])\n",
        "\n",
        "my_prime_numbers = prime_numbers(my_start_of_range, my_end_of_range)\n",
        "my_prime_numbers = ' '.join(map(str, my_prime_numbers)) #вывод без квадратных скобок\n",
        "\n",
        "print(my_prime_numbers)\n",
        "\n",
        "\n",
        "\n"
      ],
      "metadata": {
        "id": "XSMJnLgrc6Bf",
        "colab": {
          "base_uri": "https://localhost:8080/"
        },
        "outputId": "5f98ac80-b8ba-4d88-ac36-620b701162bc"
      },
      "execution_count": null,
      "outputs": [
        {
          "output_type": "stream",
          "name": "stdout",
          "text": [
            "10, 50\n",
            "11 13 17 19 23 29 31 37 41 43 47\n"
          ]
        }
      ]
    },
    {
      "cell_type": "markdown",
      "source": [
        "# Задание 3\n",
        "\n",
        "Напишите функцию для объединения двух списков (список ключей и список значении) в словарь\n",
        "\n",
        "*Запрещено:*\n",
        "\n",
        "*   Использования готовых функции для объединения списков (пример: zip() )\n",
        "\n",
        "Дано:\n",
        "\n",
        "```\n",
        "keys = ['a', 'b', 'c', 'e' ]\n",
        "values = [1, 2, 3, 4]\n",
        "```\n",
        "\n",
        "Вывод:\n",
        "```\n",
        "{'a': 1, 'b': 2, 'c': 3, 'e': 4}\n",
        "```\n",
        "\n",
        "\n"
      ],
      "metadata": {
        "id": "vYM0LyxxdElN"
      }
    },
    {
      "cell_type": "code",
      "source": [
        "def union_list(list_1, list_2):\n",
        "    my_dict = {}\n",
        "    len_dict = len(list_1)\n",
        "\n",
        "    for i in range(len_dict):\n",
        "        key = list_1[i]\n",
        "        value = list_2[i]\n",
        "        my_dict[key] = value\n",
        "\n",
        "    return my_dict\n",
        "\n",
        "\n",
        "keys = ['a', 'b', 'c', 'e' ]\n",
        "values = [1, 2, 3, 4]\n",
        "\n",
        "print(union_list(keys, values))\n"
      ],
      "metadata": {
        "id": "CRvhHTjCdvjS",
        "colab": {
          "base_uri": "https://localhost:8080/"
        },
        "outputId": "c3d23696-35f4-4758-ecc7-ee6b404b2272"
      },
      "execution_count": null,
      "outputs": [
        {
          "output_type": "stream",
          "name": "stdout",
          "text": [
            "{'a': 1, 'b': 2, 'c': 3, 'e': 4}\n"
          ]
        }
      ]
    },
    {
      "cell_type": "markdown",
      "source": [
        "# Задание 4\n",
        "\n",
        "Напишите функцию(ии) для подсчета статистических параметров:\n",
        "*   Сумму\n",
        "*   Среднее арифметическое\n",
        "*   Медиану\n",
        "*   Моду\n",
        "\n",
        "\n",
        "*Запрещено:*\n",
        "\n",
        "*   sum()\n",
        "*   sorted()\n",
        "*   и других функции предоставляющих готовое решение задания\n",
        "\n",
        "Дано:\n",
        "\n",
        "```\n",
        "numbers = [1, 2, 2, 3, 4, 5, 6, 7, 8 ,9 ,10]\n",
        "\n",
        "```\n",
        "\n",
        "Вывод:\n",
        "```\n",
        "{'mean': 5.181818181818182, 'median': 5, 'mode': 2, 'sum': 57}\n",
        "```\n"
      ],
      "metadata": {
        "id": "L_w8H8i-fQcP"
      }
    },
    {
      "cell_type": "code",
      "source": [
        "def statistical_parameters(list_of_numbers):\n",
        "    my_dict = {}\n",
        "#Поиск суммы\n",
        "    sm = 0\n",
        "\n",
        "    for number in list_of_numbers:\n",
        "        sm += number\n",
        "\n",
        "    my_dict['sum'] = sm\n",
        "#Поиск среднего арифметического\n",
        "    count = 0\n",
        "\n",
        "    for number in list_of_numbers:\n",
        "        count += 1\n",
        "\n",
        "    avg = sm / count\n",
        "\n",
        "    my_dict['mean'] = avg\n",
        "#Поиск медианы\n",
        "    median_index = count // 2\n",
        "    median = list_of_numbers[median_index]\n",
        "\n",
        "    my_dict['median'] = median\n",
        "#Поиск моды\n",
        "    mode = count = 0\n",
        "\n",
        "    for number in list_of_numbers:\n",
        "        count_number = list_of_numbers.count(number)\n",
        "        if count_number > count:\n",
        "            mode, count = number, count_number\n",
        "\n",
        "    my_dict['mode'] = mode\n",
        "#Возвращаем итоговый словарь\n",
        "    return my_dict\n",
        "\n",
        "\n",
        "numbers = [1, 2, 2, 3, 4, 5, 6, 7, 8 ,9 ,10]\n",
        "my_statistical_parameters = statistical_parameters(numbers)\n",
        "\n",
        "print(my_statistical_parameters)\n",
        "\n",
        "\n",
        "\n",
        "\n",
        "\n",
        "\n",
        "\n"
      ],
      "metadata": {
        "id": "dW6jW_rjfuba",
        "colab": {
          "base_uri": "https://localhost:8080/"
        },
        "outputId": "56c3e58a-4d37-487d-c176-52188479e3b6"
      },
      "execution_count": null,
      "outputs": [
        {
          "output_type": "stream",
          "name": "stdout",
          "text": [
            "{'sum': 57, 'mean': 5.181818181818182, 'median': 5, 'mode': 2}\n"
          ]
        }
      ]
    },
    {
      "cell_type": "markdown",
      "source": [
        "# Задание 5\n",
        "\n",
        "На ввод поступает строка символов. Строка состоит из слов, которые отделены друг от друга пробелами. Необходимо вывести самое длинное слово и его порядковый номер.\n",
        "\n",
        "*Запрещено:*\n",
        "\n",
        "*   len()\n",
        "\n",
        "Дано:\n",
        "\n",
        "```\n",
        "Страдание и боль всегда обязательны для широкого сознания и глубокого сердца.\n",
        "\n",
        "```\n",
        "\n",
        "Вывод:\n",
        "```\n",
        "Самое длинное слово с номером 5: обязательны\n",
        "```"
      ],
      "metadata": {
        "id": "hZW0NZ7SgTcp"
      }
    },
    {
      "cell_type": "code",
      "source": [
        "#Функция для поиска длины слова\n",
        "def len_word(word):\n",
        "    length = 0\n",
        "\n",
        "    for letter in word:\n",
        "        length += 1\n",
        "\n",
        "    return length\n",
        "\n",
        "#Функция для поиска самого длинного слова\n",
        "def the_longest_word(my_str):\n",
        "    words = my_str.split()\n",
        "    the_longest_word = words[0]\n",
        "\n",
        "    for word in words:\n",
        "        if len_word(word) > len_word(the_longest_word):\n",
        "            the_longest_word = word\n",
        "\n",
        "    serial_number = words.index(the_longest_word)\n",
        "\n",
        "    return f'Самое длинное слово с номером {serial_number + 1}: {the_longest_word}'\n",
        "\n",
        "\n",
        "source_str = 'Страдание и боль всегда обязательны для широкого сознания и глубокого сердца.'\n",
        "the_longest_word = the_longest_word(source_str)\n",
        "\n",
        "print(the_longest_word)\n"
      ],
      "metadata": {
        "id": "rC5DpHHLsDYp",
        "colab": {
          "base_uri": "https://localhost:8080/"
        },
        "outputId": "7bf3f5cc-a0df-426a-a6cc-168f0ed01a69"
      },
      "execution_count": null,
      "outputs": [
        {
          "output_type": "stream",
          "name": "stdout",
          "text": [
            "Самое длинное слово с номером 5: обязательны\n"
          ]
        }
      ]
    },
    {
      "cell_type": "markdown",
      "source": [
        "# Задание 6\n",
        "\n",
        "Напишите программу, для управления оценками студентов, со следующими функциями:\n",
        "\n",
        "* Добавление информации о студенте и его оценках.\n",
        "* Подсчет среднего балла студента.\n",
        "* Получение списка всех студентов с их средними баллами.\n",
        "* Поиск студента по имени и вывод его оценок и среднего балла.\n",
        "\n",
        "\n",
        "\n"
      ],
      "metadata": {
        "id": "k5BzJW5ZeaQN"
      }
    },
    {
      "cell_type": "code",
      "source": [
        "#Функция для добавления студента в список студентов\n",
        "def add_student(students, name):\n",
        "    if name not in students:\n",
        "        students[name] = []\n",
        "        print(f\"Студент {name} успешно добавлен.\")\n",
        "    else:\n",
        "        print(f\"Студент {name} уже существует.\")\n",
        "\n",
        "#Функция добавления информации о студенте\n",
        "def add_grade(students, name, grade):\n",
        "    if name in students:\n",
        "        students[name].append(grade)\n",
        "        print(f\"Оценка {grade} успешно добавлена для студента {name}.\")\n",
        "    else:\n",
        "        print(f\"Студент {name} не найден.\")\n",
        "\n",
        "#Функция для подсчета среднего балла\n",
        "def get_average_grade(grades):\n",
        "    if grades:\n",
        "        return sum(grades) / len(grades)\n",
        "    return 0.0\n",
        "\n",
        "#Функция для подсчёта среднего балла студента\n",
        "def get_average_student(students, name):\n",
        "    grades = students[name]\n",
        "    average_student = get_average_grade(grades)\n",
        "    return average_student\n",
        "\n",
        "#Функция для получения списка всех студентов с их средними баллами\n",
        "def get_all_students_info(students):\n",
        "    students_info = {}\n",
        "    for name, grades in students.items():\n",
        "        average_grade = get_average_grade(grades)\n",
        "        students_info[name] = {\"average\": average_grade}\n",
        "    return students_info\n",
        "\n",
        "#Функция для поиска студента по имени и вывода его оценок и среднего балла\n",
        "def find_student(students, name):\n",
        "    if name in students:\n",
        "        grades = students[name]\n",
        "        average_grade = get_average_grade(grades)\n",
        "        return {\n",
        "            \"name\": name,\n",
        "            \"grades\": grades,\n",
        "            \"average\": average_grade\n",
        "        }\n",
        "    else:\n",
        "        print(f\"Студент {name} не найден.\")\n",
        "        return None\n",
        "\n",
        "#Основная функция, управляющая работой программы\n",
        "def main():\n",
        "    students = {}\n",
        "\n",
        "    while True:\n",
        "        print(\"\\n=== Система управления оценками студентов ===\")\n",
        "        print(\"1. Добавить студента\")\n",
        "        print(\"2. Добавить оценку студенту\")\n",
        "        print(\"3. Подсчет среднего балла студента\")\n",
        "        print(\"4. Показать всех студентов\")\n",
        "        print(\"5. Найти студента\")\n",
        "        print(\"6. Выйти\")\n",
        "\n",
        "        choice = input(\"Введите номер действия (1-5): \")\n",
        "\n",
        "        if choice == \"1\":\n",
        "            name = input(\"Введите имя студента: \")\n",
        "            add_student(students, name)\n",
        "\n",
        "        elif choice == \"2\":\n",
        "            name = input(\"Введите имя студента: \")\n",
        "            grade = int(input(\"Введите оценку: \"))\n",
        "            add_grade(students, name, grade)\n",
        "\n",
        "        elif choice == \"3\":\n",
        "            name = input(\"Введите имя студента: \")\n",
        "            average_student = get_average_student(students, name)\n",
        "            print(f\"Cтудент {name}, Средний балл: {average_student}\")\n",
        "\n",
        "        elif choice == \"4\":\n",
        "            students_info = get_all_students_info(students)\n",
        "            if students_info:\n",
        "                print(\"\\nСписок всех студентов:\")\n",
        "                for name, info in students_info.items():\n",
        "                    print(f\"\\nСтудент: {name}, Ср.балл: {info['average']:.2f}\")\n",
        "            else:\n",
        "                print(\"Список студентов пуст.\")\n",
        "\n",
        "        elif choice == \"5\":\n",
        "            name = input(\"Введите имя студента для поиска: \")\n",
        "            student_info = find_student(students, name)\n",
        "            if student_info:\n",
        "                print(f\"\\nИнформация о студенте {student_info['name']}:\")\n",
        "                print(f\"Оценки: {student_info['grades']}\")\n",
        "                print(f\"Средний балл: {student_info['average']:.2f}\")\n",
        "\n",
        "        elif choice == \"6\":\n",
        "            print(\"Программа завершена.\")\n",
        "            break\n",
        "\n",
        "        else:\n",
        "            print(\"Неверный выбор. Пожалуйста, попробуйте снова.\")\n",
        "\n",
        "main()\n"
      ],
      "metadata": {
        "id": "cvhlltVbdyoL",
        "colab": {
          "base_uri": "https://localhost:8080/"
        },
        "outputId": "cbb4e636-b072-457d-e5dc-092e0b8ea31d"
      },
      "execution_count": null,
      "outputs": [
        {
          "output_type": "stream",
          "name": "stdout",
          "text": [
            "\n",
            "=== Система управления оценками студентов ===\n",
            "1. Добавить студента\n",
            "2. Добавить оценку студенту\n",
            "3. Подсчет среднего балла студента\n",
            "4. Показать всех студентов\n",
            "5. Найти студента\n",
            "6. Выйти\n",
            "Введите номер действия (1-5): 1\n",
            "Введите имя студента: Tom\n",
            "Студент Tom успешно добавлен.\n",
            "\n",
            "=== Система управления оценками студентов ===\n",
            "1. Добавить студента\n",
            "2. Добавить оценку студенту\n",
            "3. Подсчет среднего балла студента\n",
            "4. Показать всех студентов\n",
            "5. Найти студента\n",
            "6. Выйти\n",
            "Введите номер действия (1-5): 2\n",
            "Введите имя студента: Tom\n",
            "Введите оценку: 2\n",
            "Оценка 2 успешно добавлена для студента Tom.\n",
            "\n",
            "=== Система управления оценками студентов ===\n",
            "1. Добавить студента\n",
            "2. Добавить оценку студенту\n",
            "3. Подсчет среднего балла студента\n",
            "4. Показать всех студентов\n",
            "5. Найти студента\n",
            "6. Выйти\n",
            "Введите номер действия (1-5): 2\n",
            "Введите имя студента: Tom\n",
            "Введите оценку: 3\n",
            "Оценка 3 успешно добавлена для студента Tom.\n",
            "\n",
            "=== Система управления оценками студентов ===\n",
            "1. Добавить студента\n",
            "2. Добавить оценку студенту\n",
            "3. Подсчет среднего балла студента\n",
            "4. Показать всех студентов\n",
            "5. Найти студента\n",
            "6. Выйти\n",
            "Введите номер действия (1-5): 3\n",
            "Введите имя студента: Tom\n",
            "Cтудент Tom, Средний балл: 2.5\n",
            "\n",
            "=== Система управления оценками студентов ===\n",
            "1. Добавить студента\n",
            "2. Добавить оценку студенту\n",
            "3. Подсчет среднего балла студента\n",
            "4. Показать всех студентов\n",
            "5. Найти студента\n",
            "6. Выйти\n",
            "Введите номер действия (1-5): 1\n",
            "Введите имя студента: Jack\n",
            "Студент Jack успешно добавлен.\n",
            "\n",
            "=== Система управления оценками студентов ===\n",
            "1. Добавить студента\n",
            "2. Добавить оценку студенту\n",
            "3. Подсчет среднего балла студента\n",
            "4. Показать всех студентов\n",
            "5. Найти студента\n",
            "6. Выйти\n",
            "Введите номер действия (1-5): 2\n",
            "Введите имя студента: Jack\n",
            "Введите оценку: 4\n",
            "Оценка 4 успешно добавлена для студента Jack.\n",
            "\n",
            "=== Система управления оценками студентов ===\n",
            "1. Добавить студента\n",
            "2. Добавить оценку студенту\n",
            "3. Подсчет среднего балла студента\n",
            "4. Показать всех студентов\n",
            "5. Найти студента\n",
            "6. Выйти\n",
            "Введите номер действия (1-5): 2\n",
            "Введите имя студента: Jack\n",
            "Введите оценку: 5\n",
            "Оценка 5 успешно добавлена для студента Jack.\n",
            "\n",
            "=== Система управления оценками студентов ===\n",
            "1. Добавить студента\n",
            "2. Добавить оценку студенту\n",
            "3. Подсчет среднего балла студента\n",
            "4. Показать всех студентов\n",
            "5. Найти студента\n",
            "6. Выйти\n",
            "Введите номер действия (1-5): 3\n",
            "Введите имя студента: Jack\n",
            "Cтудент Jack, Средний балл: 4.5\n",
            "\n",
            "=== Система управления оценками студентов ===\n",
            "1. Добавить студента\n",
            "2. Добавить оценку студенту\n",
            "3. Подсчет среднего балла студента\n",
            "4. Показать всех студентов\n",
            "5. Найти студента\n",
            "6. Выйти\n",
            "Введите номер действия (1-5): 4\n",
            "\n",
            "Список всех студентов:\n",
            "\n",
            "Студент: Tom, Ср.балл: 2.50\n",
            "\n",
            "Студент: Jack, Ср.балл: 4.50\n",
            "\n",
            "=== Система управления оценками студентов ===\n",
            "1. Добавить студента\n",
            "2. Добавить оценку студенту\n",
            "3. Подсчет среднего балла студента\n",
            "4. Показать всех студентов\n",
            "5. Найти студента\n",
            "6. Выйти\n",
            "Введите номер действия (1-5): 5\n",
            "Введите имя студента для поиска: Jack\n",
            "\n",
            "Информация о студенте Jack:\n",
            "Оценки: [4, 5]\n",
            "Средний балл: 4.50\n",
            "\n",
            "=== Система управления оценками студентов ===\n",
            "1. Добавить студента\n",
            "2. Добавить оценку студенту\n",
            "3. Подсчет среднего балла студента\n",
            "4. Показать всех студентов\n",
            "5. Найти студента\n",
            "6. Выйти\n",
            "Введите номер действия (1-5): 6\n",
            "Программа завершена.\n"
          ]
        }
      ]
    },
    {
      "cell_type": "markdown",
      "source": [
        "# Задание 7\n",
        "\n",
        "\n",
        "**Задача:**\n",
        "\n",
        "Создайте приложение-викторину с командной строкой, которое задает пользователям вопросы по различным темам и отслеживает их результаты.\n",
        "\n",
        "Ключевые особенности:\n",
        "\n",
        "*   Хранение данных о вопросах и ответах на них, а также баллов за каждый вопрос\n",
        "*   Реализуйте функцию для представления вопросов, принятия ответов пользователей и предоставления обратной связи о том, являются ли ответы правильными или неправильными.\n",
        "*  После завершения викторины отобразите общий балл пользователя из числа ответов на вопросы.\n",
        "*  Реализуйте функцию добавления нового вопроса\n",
        "*  Реализуйте функцию перемешивания вопросов, для отображения случайного вопроса\n"
      ],
      "metadata": {
        "id": "iQ8Z-7PYgu1_"
      }
    },
    {
      "cell_type": "code",
      "source": [
        "import random\n",
        "\n",
        "\n",
        "# Хранение данных о вопросах и ответах\n",
        "questions = [\n",
        "    {\n",
        "        \"question\": \"Какая столица Франции?\",\n",
        "        \"answer\": \"Париж\",\n",
        "        \"score\": 10\n",
        "    },\n",
        "    {\n",
        "        \"question\": \"Какая самая высокая гора в мире?\",\n",
        "        \"answer\": \"Эверест\",\n",
        "        \"score\": 10\n",
        "    },\n",
        "    {\n",
        "        \"question\": \"Какой самый большой океан на Земле?\",\n",
        "        \"answer\": \"Тихий\",\n",
        "        \"score\": 10\n",
        "    }\n",
        "]\n",
        "\n",
        "def ask_question(question):\n",
        "    \"\"\"\n",
        "    Функция для представления вопросов, принятия ответов пользователей\n",
        "    и предоставления обратной связи о том, являются ли ответы правильными или неправильными.\n",
        "    \"\"\"\n",
        "    user_answer = input(f\"{question['question']}? \")\n",
        "    if user_answer.lower() == question[\"answer\"].lower():\n",
        "        print(\"Правильный ответ!\")\n",
        "        return question[\"score\"]\n",
        "    else:\n",
        "        print(f\"Неправильный ответ. Правильный ответ: {question['answer']}\")\n",
        "        return 0\n",
        "\n",
        "def add_question():\n",
        "    \"\"\"Функция добавления нового вопроса.\"\"\"\n",
        "    question = input(\"Введите вопрос: \")\n",
        "    answer = input(\"Введите ответ: \")\n",
        "    score = int(input(\"Введите балл за вопрос: \"))\n",
        "    questions.append({\"question\": question, \"answer\": answer, \"score\": score})\n",
        "    print(\"Вопрос успешно добавлен!\")\n",
        "\n",
        "def run_quiz():\n",
        "    \"\"\"Функция для запуска викторины.\"\"\"\n",
        "    total_score = 0\n",
        "    random.shuffle(questions)  # Перемешивание вопросов\n",
        "    for question in questions:\n",
        "        score = ask_question(question)\n",
        "        total_score += score\n",
        "    print(f\"Викторина завершена! Ваш общий балл: {total_score}\")\n",
        "\n",
        "def main():\n",
        "    while True:\n",
        "        print(\"1. Начать викторину\")\n",
        "        print(\"2. Добавить вопрос\")\n",
        "        print(\"3. Выход\")\n",
        "        choice = input(\"Выберите действие: \")\n",
        "        if choice == \"1\":\n",
        "            run_quiz()\n",
        "        elif choice == \"2\":\n",
        "            add_question()\n",
        "        elif choice == \"3\":\n",
        "            break\n",
        "        else:\n",
        "            print(\"Неверный выбор. Попробуйте снова.\")\n",
        "\n",
        "main()\n"
      ],
      "metadata": {
        "id": "DhxyYwHwh2V4",
        "colab": {
          "base_uri": "https://localhost:8080/"
        },
        "outputId": "97ac15b3-4a3d-44ea-9669-79468d1709eb"
      },
      "execution_count": null,
      "outputs": [
        {
          "name": "stdout",
          "output_type": "stream",
          "text": [
            "1. Начать викторину\n",
            "2. Добавить вопрос\n",
            "3. Выход\n",
            "Выберите действие: 2\n",
            "Введите вопрос: Кто является автором картины \"Мона Лиза\"?\n",
            "Введите ответ: Леонардо да Винчи\n",
            "Введите балл за вопрос: 15\n",
            "Вопрос успешно добавлен!\n",
            "1. Начать викторину\n",
            "2. Добавить вопрос\n",
            "3. Выход\n",
            "Выберите действие: 1\n",
            "Какая самая высокая гора в мире?? Эльбрус\n",
            "Неправильный ответ. Правильный ответ: Эверест\n",
            "Какой самый большой океан на Земле?? -\n",
            "Неправильный ответ. Правильный ответ: Тихий\n",
            "Кто является автором картины \"Мона Лиза\"?? леонардо да винчи\n",
            "Правильный ответ!\n",
            "Какая столица Франции?? Париж\n",
            "Правильный ответ!\n",
            "Викторина завершена! Ваш общий балл: 25\n",
            "1. Начать викторину\n",
            "2. Добавить вопрос\n",
            "3. Выход\n",
            "Выберите действие: 3\n"
          ]
        }
      ]
    }
  ]
}